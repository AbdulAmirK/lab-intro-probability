{
 "cells": [
  {
   "cell_type": "markdown",
   "metadata": {
    "editable": true,
    "slideshow": {
     "slide_type": ""
    },
    "tags": []
   },
   "source": [
    "# Lab | Intro to Probability"
   ]
  },
  {
   "cell_type": "markdown",
   "metadata": {},
   "source": [
    "**Objective**\n",
    "\n",
    "Welcome to this Intro to Probability lab, where we explore decision-making scenarios through the lens of probability and strategic analysis. In the business world, making informed decisions is crucial, especially when faced with uncertainties. This lab focuses on scenarios where probabilistic outcomes play a significant role in shaping strategies and outcomes. Students will engage in exercises that require assessing and choosing optimal paths based on data-driven insights. The goal is to enhance your skills by applying probability concepts to solve real-world problems."
   ]
  },
  {
   "cell_type": "markdown",
   "metadata": {},
   "source": [
    "**Challenge 1**"
   ]
  },
  {
   "cell_type": "markdown",
   "metadata": {
    "editable": true,
    "slideshow": {
     "slide_type": ""
    },
    "tags": []
   },
   "source": [
    "#### Ironhack Airlines \n",
    "\n",
    "Often Airlines sell more tickets than they have seats available, this is called overbooking. Consider the following:\n",
    "- A plane has 450 seats. \n",
    "- Based on historical data we conclude that each individual passenger has a 3% chance of missing it's flight. \n",
    "\n",
    "If the Ironhack Airlines routinely sells 460 tickets, what is the chance that they have a seats for all passenger?"
   ]
  },
  {
   "cell_type": "code",
   "execution_count": 26,
   "metadata": {},
   "outputs": [
    {
     "name": "stdout",
     "output_type": "stream",
     "text": [
      "The probability that exactly 10 passengers miss their flight is: 0.06974730001324131\n",
      "The probability that up to 10 passengers miss their flight, and thus all passengers can be seated, is: 0.18527005339169883\n"
     ]
    }
   ],
   "source": [
    "#code here\n",
    "from scipy.stats import binom\n",
    "\n",
    "# Parameters\n",
    "n = 460\n",
    "p = 0.03\n",
    "k = 10\n",
    "\n",
    "# Calculate P(X = 10)\n",
    "prob_x_equals_10 = binom.pmf(k, n, p)\n",
    "\n",
    "print(f\"The probability that exactly 10 passengers miss their flight is: {prob_x_equals_10}\")\n",
    "\n",
    "prob_x_up_to_10 = sum(binom.pmf(k, n, p) for k in range(11))\n",
    "print(f\"The probability that up to 10 passengers miss their flight, and thus all passengers can be seated, is: {prob_x_up_to_10}\")"
   ]
  },
  {
   "cell_type": "code",
   "execution_count": 27,
   "metadata": {},
   "outputs": [
    {
     "name": "stdout",
     "output_type": "stream",
     "text": [
      "The probability that all passengers can be seated (450 or fewer show up) is: 0.8844772466215431\n"
     ]
    }
   ],
   "source": [
    "from scipy.stats import binom\n",
    "\n",
    "n = 460  # Tickets sold\n",
    "p = 0.97  # Probability of showing up\n",
    "\n",
    "# Using the CDF to find P(X <= 450)\n",
    "prob_up_to_450 = binom.cdf(450, n, p)\n",
    "\n",
    "# The result gives us P(X <= 450), directly what we want\n",
    "print(f\"The probability that all passengers can be seated (450 or fewer show up) is: {prob_up_to_450}\")"
   ]
  },
  {
   "cell_type": "markdown",
   "metadata": {
    "editable": true,
    "slideshow": {
     "slide_type": ""
    },
    "tags": []
   },
   "source": [
    "**Challenge 2**"
   ]
  },
  {
   "cell_type": "markdown",
   "metadata": {},
   "source": [
    "#### Ironhack Call Center "
   ]
  },
  {
   "cell_type": "markdown",
   "metadata": {},
   "source": [
    "Suppose a customer service representative at a call center is handling customer complaints. Consider the following:\n",
    "- The probability of successfully resolving a customer complaint on the first attempt is 0.3. \n",
    "\n",
    "\n",
    "What is the probability that the representative needs to make at least three attempts before successfully resolving a customer complaint?"
   ]
  },
  {
   "cell_type": "code",
   "execution_count": 28,
   "metadata": {
    "editable": true,
    "slideshow": {
     "slide_type": ""
    },
    "tags": []
   },
   "outputs": [
    {
     "name": "stdout",
     "output_type": "stream",
     "text": [
      "The probability of making at least three attempts before resolving a complaint is: 0.49\n"
     ]
    }
   ],
   "source": [
    "from scipy.stats import geom\n",
    "\n",
    "ps = 0.3 \n",
    "\n",
    "three_attempts = 1 - geom.cdf(2, ps)\n",
    "\n",
    "print(f\"The probability of making at least three attempts before resolving a complaint is: {three_attempts:.2f}\")"
   ]
  },
  {
   "cell_type": "markdown",
   "metadata": {
    "editable": true,
    "slideshow": {
     "slide_type": ""
    },
    "tags": []
   },
   "source": [
    "**Challenge 3**"
   ]
  },
  {
   "cell_type": "markdown",
   "metadata": {},
   "source": [
    "#### Ironhack Website"
   ]
  },
  {
   "cell_type": "markdown",
   "metadata": {},
   "source": [
    "Consider a scenario related to Ironhack website traffic. Where:\n",
    "- our website takes on average 500 visits per hour.\n",
    "- the website's server is designed to handle up to 550 vists per hour.\n",
    "\n",
    "\n",
    "What is the probability of the website server being overwhelmed?"
   ]
  },
  {
   "cell_type": "code",
   "execution_count": 29,
   "metadata": {},
   "outputs": [
    {
     "name": "stdout",
     "output_type": "stream",
     "text": [
      "The probability of the server being overwhelmed is: 0.01\n"
     ]
    }
   ],
   "source": [
    "#code here\n",
    "from scipy.stats import poisson\n",
    "\n",
    "web_visits = 500\n",
    "\n",
    "server_capacity = 550\n",
    "\n",
    "# Calculate the probability of 550 or fewer visits using the CDF\n",
    "prob_up_to_550 = poisson.cdf(server_capacity, web_visits)\n",
    "\n",
    "# The probability of more than 550 visits\n",
    "prob_overwhelmed_server = 1 - prob_up_to_550\n",
    "\n",
    "print(f\"The probability of the server being overwhelmed is: {prob_overwhelmed_server:.2f}\")"
   ]
  },
  {
   "cell_type": "markdown",
   "metadata": {},
   "source": [
    "What is the probability of being overwhelmed at some point during a day? (consider 24hours)"
   ]
  },
  {
   "cell_type": "code",
   "execution_count": 30,
   "metadata": {},
   "outputs": [
    {
     "name": "stdout",
     "output_type": "stream",
     "text": [
      "The probability of the server being overwhelmed at some point during a 24-hour day is: 0.27\n"
     ]
    }
   ],
   "source": [
    "#code here\n",
    "\n",
    "prob_not_overwhelmed_hour = 1 - prob_overwhelmed_server\n",
    "\n",
    "prob_not_overwhelmed_24hrs = prob_not_overwhelmed_hour ** 24\n",
    "\n",
    "prob_overwhelmed_any_point = 1 - prob_not_overwhelmed_24hrs\n",
    "\n",
    "print(f\"The probability of the server being overwhelmed at some point during a 24-hour day is: {prob_overwhelmed_any_point:.2f}\")"
   ]
  },
  {
   "cell_type": "markdown",
   "metadata": {},
   "source": [
    "**Challenge 4**"
   ]
  },
  {
   "cell_type": "markdown",
   "metadata": {},
   "source": [
    "#### Ironhack Helpdesk"
   ]
  },
  {
   "cell_type": "markdown",
   "metadata": {},
   "source": [
    "Consider a scenario related to the time between arrivals of customers at a service desk.\n",
    "\n",
    "On average, a customers arrives every 10minutes.\n",
    "\n",
    "What is the probability that the next customer will arrive within the next 5 minutes?"
   ]
  },
  {
   "cell_type": "code",
   "execution_count": 31,
   "metadata": {},
   "outputs": [
    {
     "name": "stdout",
     "output_type": "stream",
     "text": [
      "The probability that the next customer will arrive within the next 5 minutes is: 0.39\n"
     ]
    }
   ],
   "source": [
    "import math\n",
    "\n",
    "# Rate parameter, lambda (customers per minute)\n",
    "lambda_param = 0.1\n",
    "\n",
    "# Time we're interested in (5 minutes)\n",
    "x = 5\n",
    "\n",
    "# Calculate the CDF\n",
    "prob_within_5_min = 1 - math.exp(-lambda_param * x)\n",
    "\n",
    "print(f\"The probability that the next customer will arrive within the next 5 minutes is: {prob_within_5_min:.2f}\")"
   ]
  },
  {
   "cell_type": "markdown",
   "metadata": {},
   "source": [
    "If there is no customer for 15minutes, employees can that a 5minutes break.\n",
    "\n",
    "What is the probability an employee taking a break?"
   ]
  },
  {
   "cell_type": "code",
   "execution_count": 32,
   "metadata": {},
   "outputs": [
    {
     "name": "stdout",
     "output_type": "stream",
     "text": [
      "The probability of no customers arriving in a 15-minute period, allowing for a 5-minute break, is: 0.22\n"
     ]
    }
   ],
   "source": [
    "import math\n",
    "\n",
    "lambda_param = 0.1\n",
    "t = 15\n",
    "\n",
    "# Probability of no customer arriving in 15 minutes\n",
    "prob_no_customer_15_min = math.exp(-lambda_param * t)\n",
    "\n",
    "print(f\"The probability of no customers arriving in a 15-minute period, allowing for a 5-minute break, is: {prob_no_customer_15_min:.2f}\")"
   ]
  },
  {
   "cell_type": "markdown",
   "metadata": {},
   "source": [
    "**Challenge 5**"
   ]
  },
  {
   "cell_type": "markdown",
   "metadata": {},
   "source": [
    "The weights of a certain species of birds follow a normal distribution with a mean weight of 150 grams and a standard deviation of 10 grams. \n",
    "\n",
    "- If we randomly select a bird, what is the probability that its weight is between 140 and 160 grams?"
   ]
  },
  {
   "cell_type": "code",
   "execution_count": 33,
   "metadata": {},
   "outputs": [],
   "source": [
    "#code here\n",
    "from scipy.stats import norm\n",
    "\n",
    "mean = 150\n",
    "std_dev = 10\n",
    "\n",
    "lower_bound = 140\n",
    "upper_bound = 160\n"
   ]
  },
  {
   "cell_type": "code",
   "execution_count": 34,
   "metadata": {},
   "outputs": [
    {
     "name": "stdout",
     "output_type": "stream",
     "text": [
      "The probability that a randomly selected bird's weight is between 140 and 160 grams is: 0.68\n"
     ]
    }
   ],
   "source": [
    "prob_upper = norm.cdf(upper_bound, mean, std_dev)\n",
    "\n",
    "prob_lower = norm.cdf(lower_bound, mean, std_dev)\n",
    "\n",
    "prob_between = prob_upper - prob_lower\n",
    "\n",
    "print(f\"The probability that a randomly selected bird's weight is between 140 and 160 grams is: {prob_between:.2f}\")"
   ]
  },
  {
   "cell_type": "markdown",
   "metadata": {},
   "source": [
    "**Challenge 6**"
   ]
  },
  {
   "cell_type": "markdown",
   "metadata": {},
   "source": [
    "If the lifetime (in hours) of a certain electronic component follows an exponential distribution with a mean lifetime of 50 hours, what is the probability that the component fails within the first 30 hours?"
   ]
  },
  {
   "cell_type": "code",
   "execution_count": 35,
   "metadata": {},
   "outputs": [
    {
     "name": "stdout",
     "output_type": "stream",
     "text": [
      "The probability that the component fails within the first 30 hours is: 0.45\n"
     ]
    }
   ],
   "source": [
    "#code here\n",
    "import math\n",
    "\n",
    "mean_lifetime = 50\n",
    "\n",
    "lambda_param = 1 / mean_lifetime\n",
    "\n",
    "time_period = 30\n",
    "\n",
    "prob_failure_within_30 = 1 - math.exp(-lambda_param * time_period)\n",
    "\n",
    "print(f\"The probability that the component fails within the first 30 hours is: {prob_failure_within_30:.2f}\")"
   ]
  },
  {
   "cell_type": "code",
   "execution_count": null,
   "metadata": {},
   "outputs": [],
   "source": []
  }
 ],
 "metadata": {
  "kernelspec": {
   "display_name": "Python 3 (ipykernel)",
   "language": "python",
   "name": "python3"
  },
  "language_info": {
   "codemirror_mode": {
    "name": "ipython",
    "version": 3
   },
   "file_extension": ".py",
   "mimetype": "text/x-python",
   "name": "python",
   "nbconvert_exporter": "python",
   "pygments_lexer": "ipython3",
   "version": "3.11.5"
  }
 },
 "nbformat": 4,
 "nbformat_minor": 4
}
